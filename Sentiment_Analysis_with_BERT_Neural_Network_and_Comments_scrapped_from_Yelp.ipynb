{
  "nbformat": 4,
  "nbformat_minor": 0,
  "metadata": {
    "colab": {
      "name": "Sentiment Analysis with BERT Neural Network and Comments scrapped from Yelp.ipynb",
      "provenance": []
    },
    "kernelspec": {
      "name": "python3",
      "display_name": "Python 3"
    },
    "language_info": {
      "name": "python"
    },
    "widgets": {
      "application/vnd.jupyter.widget-state+json": {
        "e8b03739376043ae93aa1a3e9dd54e92": {
          "model_module": "@jupyter-widgets/controls",
          "model_name": "HBoxModel",
          "model_module_version": "1.5.0",
          "state": {
            "_dom_classes": [],
            "_model_module": "@jupyter-widgets/controls",
            "_model_module_version": "1.5.0",
            "_model_name": "HBoxModel",
            "_view_count": null,
            "_view_module": "@jupyter-widgets/controls",
            "_view_module_version": "1.5.0",
            "_view_name": "HBoxView",
            "box_style": "",
            "children": [
              "IPY_MODEL_ea6541b2c2f3457795e01f38a8c79dbc",
              "IPY_MODEL_2583370e6e71448dab76aaf97b281985",
              "IPY_MODEL_7f27a38e995949deb5a2f12d799eaa9f"
            ],
            "layout": "IPY_MODEL_bd4e034b1b244b528313515ef0baf1ba"
          }
        },
        "ea6541b2c2f3457795e01f38a8c79dbc": {
          "model_module": "@jupyter-widgets/controls",
          "model_name": "HTMLModel",
          "model_module_version": "1.5.0",
          "state": {
            "_dom_classes": [],
            "_model_module": "@jupyter-widgets/controls",
            "_model_module_version": "1.5.0",
            "_model_name": "HTMLModel",
            "_view_count": null,
            "_view_module": "@jupyter-widgets/controls",
            "_view_module_version": "1.5.0",
            "_view_name": "HTMLView",
            "description": "",
            "description_tooltip": null,
            "layout": "IPY_MODEL_ba59313d6f0b4a8390dcc0d0fe1cf26f",
            "placeholder": "​",
            "style": "IPY_MODEL_c58f54a8890e4fc8897ec8b06ac10fb2",
            "value": "Downloading: 100%"
          }
        },
        "2583370e6e71448dab76aaf97b281985": {
          "model_module": "@jupyter-widgets/controls",
          "model_name": "FloatProgressModel",
          "model_module_version": "1.5.0",
          "state": {
            "_dom_classes": [],
            "_model_module": "@jupyter-widgets/controls",
            "_model_module_version": "1.5.0",
            "_model_name": "FloatProgressModel",
            "_view_count": null,
            "_view_module": "@jupyter-widgets/controls",
            "_view_module_version": "1.5.0",
            "_view_name": "ProgressView",
            "bar_style": "success",
            "description": "",
            "description_tooltip": null,
            "layout": "IPY_MODEL_4baf81fb128c4bf4a93fbb3f83a93982",
            "max": 669491321,
            "min": 0,
            "orientation": "horizontal",
            "style": "IPY_MODEL_c2327896741c44e1bd497fcdbdb519e1",
            "value": 669491321
          }
        },
        "7f27a38e995949deb5a2f12d799eaa9f": {
          "model_module": "@jupyter-widgets/controls",
          "model_name": "HTMLModel",
          "model_module_version": "1.5.0",
          "state": {
            "_dom_classes": [],
            "_model_module": "@jupyter-widgets/controls",
            "_model_module_version": "1.5.0",
            "_model_name": "HTMLModel",
            "_view_count": null,
            "_view_module": "@jupyter-widgets/controls",
            "_view_module_version": "1.5.0",
            "_view_name": "HTMLView",
            "description": "",
            "description_tooltip": null,
            "layout": "IPY_MODEL_7d0ce40b735949f6bc4d27171708002f",
            "placeholder": "​",
            "style": "IPY_MODEL_78d574dd64ff47b0a8fee3eb58b719e7",
            "value": " 638M/638M [00:27&lt;00:00, 31.7MB/s]"
          }
        },
        "bd4e034b1b244b528313515ef0baf1ba": {
          "model_module": "@jupyter-widgets/base",
          "model_name": "LayoutModel",
          "model_module_version": "1.2.0",
          "state": {
            "_model_module": "@jupyter-widgets/base",
            "_model_module_version": "1.2.0",
            "_model_name": "LayoutModel",
            "_view_count": null,
            "_view_module": "@jupyter-widgets/base",
            "_view_module_version": "1.2.0",
            "_view_name": "LayoutView",
            "align_content": null,
            "align_items": null,
            "align_self": null,
            "border": null,
            "bottom": null,
            "display": null,
            "flex": null,
            "flex_flow": null,
            "grid_area": null,
            "grid_auto_columns": null,
            "grid_auto_flow": null,
            "grid_auto_rows": null,
            "grid_column": null,
            "grid_gap": null,
            "grid_row": null,
            "grid_template_areas": null,
            "grid_template_columns": null,
            "grid_template_rows": null,
            "height": null,
            "justify_content": null,
            "justify_items": null,
            "left": null,
            "margin": null,
            "max_height": null,
            "max_width": null,
            "min_height": null,
            "min_width": null,
            "object_fit": null,
            "object_position": null,
            "order": null,
            "overflow": null,
            "overflow_x": null,
            "overflow_y": null,
            "padding": null,
            "right": null,
            "top": null,
            "visibility": null,
            "width": null
          }
        },
        "ba59313d6f0b4a8390dcc0d0fe1cf26f": {
          "model_module": "@jupyter-widgets/base",
          "model_name": "LayoutModel",
          "model_module_version": "1.2.0",
          "state": {
            "_model_module": "@jupyter-widgets/base",
            "_model_module_version": "1.2.0",
            "_model_name": "LayoutModel",
            "_view_count": null,
            "_view_module": "@jupyter-widgets/base",
            "_view_module_version": "1.2.0",
            "_view_name": "LayoutView",
            "align_content": null,
            "align_items": null,
            "align_self": null,
            "border": null,
            "bottom": null,
            "display": null,
            "flex": null,
            "flex_flow": null,
            "grid_area": null,
            "grid_auto_columns": null,
            "grid_auto_flow": null,
            "grid_auto_rows": null,
            "grid_column": null,
            "grid_gap": null,
            "grid_row": null,
            "grid_template_areas": null,
            "grid_template_columns": null,
            "grid_template_rows": null,
            "height": null,
            "justify_content": null,
            "justify_items": null,
            "left": null,
            "margin": null,
            "max_height": null,
            "max_width": null,
            "min_height": null,
            "min_width": null,
            "object_fit": null,
            "object_position": null,
            "order": null,
            "overflow": null,
            "overflow_x": null,
            "overflow_y": null,
            "padding": null,
            "right": null,
            "top": null,
            "visibility": null,
            "width": null
          }
        },
        "c58f54a8890e4fc8897ec8b06ac10fb2": {
          "model_module": "@jupyter-widgets/controls",
          "model_name": "DescriptionStyleModel",
          "model_module_version": "1.5.0",
          "state": {
            "_model_module": "@jupyter-widgets/controls",
            "_model_module_version": "1.5.0",
            "_model_name": "DescriptionStyleModel",
            "_view_count": null,
            "_view_module": "@jupyter-widgets/base",
            "_view_module_version": "1.2.0",
            "_view_name": "StyleView",
            "description_width": ""
          }
        },
        "4baf81fb128c4bf4a93fbb3f83a93982": {
          "model_module": "@jupyter-widgets/base",
          "model_name": "LayoutModel",
          "model_module_version": "1.2.0",
          "state": {
            "_model_module": "@jupyter-widgets/base",
            "_model_module_version": "1.2.0",
            "_model_name": "LayoutModel",
            "_view_count": null,
            "_view_module": "@jupyter-widgets/base",
            "_view_module_version": "1.2.0",
            "_view_name": "LayoutView",
            "align_content": null,
            "align_items": null,
            "align_self": null,
            "border": null,
            "bottom": null,
            "display": null,
            "flex": null,
            "flex_flow": null,
            "grid_area": null,
            "grid_auto_columns": null,
            "grid_auto_flow": null,
            "grid_auto_rows": null,
            "grid_column": null,
            "grid_gap": null,
            "grid_row": null,
            "grid_template_areas": null,
            "grid_template_columns": null,
            "grid_template_rows": null,
            "height": null,
            "justify_content": null,
            "justify_items": null,
            "left": null,
            "margin": null,
            "max_height": null,
            "max_width": null,
            "min_height": null,
            "min_width": null,
            "object_fit": null,
            "object_position": null,
            "order": null,
            "overflow": null,
            "overflow_x": null,
            "overflow_y": null,
            "padding": null,
            "right": null,
            "top": null,
            "visibility": null,
            "width": null
          }
        },
        "c2327896741c44e1bd497fcdbdb519e1": {
          "model_module": "@jupyter-widgets/controls",
          "model_name": "ProgressStyleModel",
          "model_module_version": "1.5.0",
          "state": {
            "_model_module": "@jupyter-widgets/controls",
            "_model_module_version": "1.5.0",
            "_model_name": "ProgressStyleModel",
            "_view_count": null,
            "_view_module": "@jupyter-widgets/base",
            "_view_module_version": "1.2.0",
            "_view_name": "StyleView",
            "bar_color": null,
            "description_width": ""
          }
        },
        "7d0ce40b735949f6bc4d27171708002f": {
          "model_module": "@jupyter-widgets/base",
          "model_name": "LayoutModel",
          "model_module_version": "1.2.0",
          "state": {
            "_model_module": "@jupyter-widgets/base",
            "_model_module_version": "1.2.0",
            "_model_name": "LayoutModel",
            "_view_count": null,
            "_view_module": "@jupyter-widgets/base",
            "_view_module_version": "1.2.0",
            "_view_name": "LayoutView",
            "align_content": null,
            "align_items": null,
            "align_self": null,
            "border": null,
            "bottom": null,
            "display": null,
            "flex": null,
            "flex_flow": null,
            "grid_area": null,
            "grid_auto_columns": null,
            "grid_auto_flow": null,
            "grid_auto_rows": null,
            "grid_column": null,
            "grid_gap": null,
            "grid_row": null,
            "grid_template_areas": null,
            "grid_template_columns": null,
            "grid_template_rows": null,
            "height": null,
            "justify_content": null,
            "justify_items": null,
            "left": null,
            "margin": null,
            "max_height": null,
            "max_width": null,
            "min_height": null,
            "min_width": null,
            "object_fit": null,
            "object_position": null,
            "order": null,
            "overflow": null,
            "overflow_x": null,
            "overflow_y": null,
            "padding": null,
            "right": null,
            "top": null,
            "visibility": null,
            "width": null
          }
        },
        "78d574dd64ff47b0a8fee3eb58b719e7": {
          "model_module": "@jupyter-widgets/controls",
          "model_name": "DescriptionStyleModel",
          "model_module_version": "1.5.0",
          "state": {
            "_model_module": "@jupyter-widgets/controls",
            "_model_module_version": "1.5.0",
            "_model_name": "DescriptionStyleModel",
            "_view_count": null,
            "_view_module": "@jupyter-widgets/base",
            "_view_module_version": "1.2.0",
            "_view_name": "StyleView",
            "description_width": ""
          }
        }
      }
    }
  },
  "cells": [
    {
      "cell_type": "code",
      "execution_count": 2,
      "metadata": {
        "colab": {
          "base_uri": "https://localhost:8080/"
        },
        "id": "pwfdr_jerNvg",
        "outputId": "b64a152e-10c3-42e9-82a7-04559b650ddd"
      },
      "outputs": [
        {
          "output_type": "stream",
          "name": "stdout",
          "text": [
            "Collecting transformers\n",
            "  Downloading transformers-4.17.0-py3-none-any.whl (3.8 MB)\n",
            "\u001b[K     |████████████████████████████████| 3.8 MB 5.4 MB/s \n",
            "\u001b[?25hCollecting tokenizers!=0.11.3,>=0.11.1\n",
            "  Downloading tokenizers-0.11.6-cp37-cp37m-manylinux_2_12_x86_64.manylinux2010_x86_64.whl (6.5 MB)\n",
            "\u001b[K     |████████████████████████████████| 6.5 MB 26.1 MB/s \n",
            "\u001b[?25hRequirement already satisfied: filelock in /usr/local/lib/python3.7/dist-packages (from transformers) (3.6.0)\n",
            "Requirement already satisfied: numpy>=1.17 in /usr/local/lib/python3.7/dist-packages (from transformers) (1.21.5)\n",
            "Requirement already satisfied: importlib-metadata in /usr/local/lib/python3.7/dist-packages (from transformers) (4.11.2)\n",
            "Requirement already satisfied: requests in /usr/local/lib/python3.7/dist-packages (from transformers) (2.23.0)\n",
            "Requirement already satisfied: tqdm>=4.27 in /usr/local/lib/python3.7/dist-packages (from transformers) (4.63.0)\n",
            "Collecting huggingface-hub<1.0,>=0.1.0\n",
            "  Downloading huggingface_hub-0.4.0-py3-none-any.whl (67 kB)\n",
            "\u001b[K     |████████████████████████████████| 67 kB 2.8 MB/s \n",
            "\u001b[?25hCollecting pyyaml>=5.1\n",
            "  Downloading PyYAML-6.0-cp37-cp37m-manylinux_2_5_x86_64.manylinux1_x86_64.manylinux_2_12_x86_64.manylinux2010_x86_64.whl (596 kB)\n",
            "\u001b[K     |████████████████████████████████| 596 kB 24.4 MB/s \n",
            "\u001b[?25hCollecting sacremoses\n",
            "  Downloading sacremoses-0.0.49-py3-none-any.whl (895 kB)\n",
            "\u001b[K     |████████████████████████████████| 895 kB 27.0 MB/s \n",
            "\u001b[?25hRequirement already satisfied: packaging>=20.0 in /usr/local/lib/python3.7/dist-packages (from transformers) (21.3)\n",
            "Requirement already satisfied: regex!=2019.12.17 in /usr/local/lib/python3.7/dist-packages (from transformers) (2019.12.20)\n",
            "Requirement already satisfied: typing-extensions>=3.7.4.3 in /usr/local/lib/python3.7/dist-packages (from huggingface-hub<1.0,>=0.1.0->transformers) (3.10.0.2)\n",
            "Requirement already satisfied: pyparsing!=3.0.5,>=2.0.2 in /usr/local/lib/python3.7/dist-packages (from packaging>=20.0->transformers) (3.0.7)\n",
            "Requirement already satisfied: zipp>=0.5 in /usr/local/lib/python3.7/dist-packages (from importlib-metadata->transformers) (3.7.0)\n",
            "Requirement already satisfied: chardet<4,>=3.0.2 in /usr/local/lib/python3.7/dist-packages (from requests->transformers) (3.0.4)\n",
            "Requirement already satisfied: urllib3!=1.25.0,!=1.25.1,<1.26,>=1.21.1 in /usr/local/lib/python3.7/dist-packages (from requests->transformers) (1.24.3)\n",
            "Requirement already satisfied: certifi>=2017.4.17 in /usr/local/lib/python3.7/dist-packages (from requests->transformers) (2021.10.8)\n",
            "Requirement already satisfied: idna<3,>=2.5 in /usr/local/lib/python3.7/dist-packages (from requests->transformers) (2.10)\n",
            "Requirement already satisfied: click in /usr/local/lib/python3.7/dist-packages (from sacremoses->transformers) (7.1.2)\n",
            "Requirement already satisfied: joblib in /usr/local/lib/python3.7/dist-packages (from sacremoses->transformers) (1.1.0)\n",
            "Requirement already satisfied: six in /usr/local/lib/python3.7/dist-packages (from sacremoses->transformers) (1.15.0)\n",
            "Installing collected packages: pyyaml, tokenizers, sacremoses, huggingface-hub, transformers\n",
            "  Attempting uninstall: pyyaml\n",
            "    Found existing installation: PyYAML 3.13\n",
            "    Uninstalling PyYAML-3.13:\n",
            "      Successfully uninstalled PyYAML-3.13\n",
            "Successfully installed huggingface-hub-0.4.0 pyyaml-6.0 sacremoses-0.0.49 tokenizers-0.11.6 transformers-4.17.0\n"
          ]
        }
      ],
      "source": [
        "!pip install transformers"
      ]
    },
    {
      "cell_type": "markdown",
      "source": [
        "**<h1> 1. Installing the dependencies**\n"
      ],
      "metadata": {
        "id": "cwxdu1hFwZNU"
      }
    },
    {
      "cell_type": "code",
      "source": [
        "from transformers import AutoTokenizer, AutoModelForSequenceClassification\n",
        "import torch\n",
        "import requests\n",
        "from bs4 import BeautifulSoup\n",
        "import re"
      ],
      "metadata": {
        "id": "87kUQB31rPsy"
      },
      "execution_count": 3,
      "outputs": []
    },
    {
      "cell_type": "markdown",
      "source": [
        "**<h1> 2. Instantiate the Model**\n",
        "\n"
      ],
      "metadata": {
        "id": "HY0CFoPAwNSS"
      }
    },
    {
      "cell_type": "code",
      "source": [
        "# Define the model repo\n",
        "model_name = \"nlptown/bert-base-multilingual-uncased-sentiment\" \n",
        "\n",
        "# Download pytorch model\n",
        "tokenizer = AutoTokenizer.from_pretrained(model_name) #Importing the pretrained model\n",
        "model = AutoModelForSequenceClassification.from_pretrained(model_name) #Loading the model"
      ],
      "metadata": {
        "colab": {
          "base_uri": "https://localhost:8080/",
          "height": 49,
          "referenced_widgets": [
            "e8b03739376043ae93aa1a3e9dd54e92",
            "ea6541b2c2f3457795e01f38a8c79dbc",
            "2583370e6e71448dab76aaf97b281985",
            "7f27a38e995949deb5a2f12d799eaa9f",
            "bd4e034b1b244b528313515ef0baf1ba",
            "ba59313d6f0b4a8390dcc0d0fe1cf26f",
            "c58f54a8890e4fc8897ec8b06ac10fb2",
            "4baf81fb128c4bf4a93fbb3f83a93982",
            "c2327896741c44e1bd497fcdbdb519e1",
            "7d0ce40b735949f6bc4d27171708002f",
            "78d574dd64ff47b0a8fee3eb58b719e7"
          ]
        },
        "id": "orI8gzLZru6J",
        "outputId": "de292e0d-e485-4ca4-b6c6-91e17a05f9ba"
      },
      "execution_count": 8,
      "outputs": [
        {
          "output_type": "display_data",
          "data": {
            "text/plain": [
              "Downloading:   0%|          | 0.00/638M [00:00<?, ?B/s]"
            ],
            "application/vnd.jupyter.widget-view+json": {
              "version_major": 2,
              "version_minor": 0,
              "model_id": "e8b03739376043ae93aa1a3e9dd54e92"
            }
          },
          "metadata": {}
        }
      ]
    },
    {
      "cell_type": "markdown",
      "source": [
        "**<h1> 3. Encode and calculate Sentiment**\n"
      ],
      "metadata": {
        "id": "REDOn969xMET"
      }
    },
    {
      "cell_type": "code",
      "source": [
        "#Encoding a token and setting the return to a pt=pytorch\n",
        "tokens = tokenizer.encode('this is the worst', return_tensors='pt')"
      ],
      "metadata": {
        "id": "zMi74-tIrzee"
      },
      "execution_count": 24,
      "outputs": []
    },
    {
      "cell_type": "code",
      "source": [
        "tokens[0]"
      ],
      "metadata": {
        "colab": {
          "base_uri": "https://localhost:8080/"
        },
        "id": "TKe7MlWIxfTE",
        "outputId": "fd092d2d-c12b-4ca9-ecce-79a08b29e83c"
      },
      "execution_count": 20,
      "outputs": [
        {
          "output_type": "execute_result",
          "data": {
            "text/plain": [
              "tensor([  101, 10372, 10127, 39854,   102])"
            ]
          },
          "metadata": {},
          "execution_count": 20
        }
      ]
    },
    {
      "cell_type": "code",
      "source": [
        "result = model(tokens)"
      ],
      "metadata": {
        "id": "uXv5g7llxly8"
      },
      "execution_count": 25,
      "outputs": []
    },
    {
      "cell_type": "code",
      "source": [
        "result"
      ],
      "metadata": {
        "colab": {
          "base_uri": "https://localhost:8080/"
        },
        "id": "_Xskhhspx3Tw",
        "outputId": "cf10ae80-fef4-4552-9c0e-7f4bff1c05dc"
      },
      "execution_count": 22,
      "outputs": [
        {
          "output_type": "execute_result",
          "data": {
            "text/plain": [
              "SequenceClassifierOutput([('logits',\n",
              "                           tensor([[-1.9988, -2.3604, -0.8269,  1.1844,  3.2305]],\n",
              "                                  grad_fn=<AddmmBackward0>))])"
            ]
          },
          "metadata": {},
          "execution_count": 22
        }
      ]
    },
    {
      "cell_type": "code",
      "source": [
        "result.logits"
      ],
      "metadata": {
        "colab": {
          "base_uri": "https://localhost:8080/"
        },
        "id": "nAgwJC2n3jHS",
        "outputId": "24f3a716-4634-4934-80fa-57dfe015b1f7"
      },
      "execution_count": 18,
      "outputs": [
        {
          "output_type": "execute_result",
          "data": {
            "text/plain": [
              "tensor([[ 4.6627,  1.9006, -0.5749, -2.7509, -2.3941]],\n",
              "       grad_fn=<AddmmBackward0>)"
            ]
          },
          "metadata": {},
          "execution_count": 18
        }
      ]
    },
    {
      "cell_type": "code",
      "source": [
        "int(torch.argmax(result.logits)) + 1"
      ],
      "metadata": {
        "colab": {
          "base_uri": "https://localhost:8080/"
        },
        "id": "pM19di7rx42x",
        "outputId": "f273ce60-6a3a-4961-b02f-7beef4a99a3a"
      },
      "execution_count": 26,
      "outputs": [
        {
          "output_type": "execute_result",
          "data": {
            "text/plain": [
              "1"
            ]
          },
          "metadata": {},
          "execution_count": 26
        }
      ]
    },
    {
      "cell_type": "markdown",
      "source": [
        "**<h1> 4. Collecting reviews**"
      ],
      "metadata": {
        "id": "uhbAF0WH5JiM"
      }
    },
    {
      "cell_type": "code",
      "source": [
        "r = requests.get('https://www.yelp.com/biz/santeria-san-francisco')\n",
        "soup = BeautifulSoup(r.text, 'html.parser')\n",
        "regex = re.compile('.*comment.*')\n",
        "results = soup.find_all('p', {'class':regex})\n",
        "reviews = [result.text for result in results]"
      ],
      "metadata": {
        "id": "Wtq3FDzl3gcy"
      },
      "execution_count": 105,
      "outputs": []
    },
    {
      "cell_type": "code",
      "source": [
        "reviews"
      ],
      "metadata": {
        "colab": {
          "base_uri": "https://localhost:8080/"
        },
        "id": "m6J4yRTq53Nx",
        "outputId": "3f8159de-63ca-45a8-a937-d35397728dc3"
      },
      "execution_count": 107,
      "outputs": [
        {
          "output_type": "execute_result",
          "data": {
            "text/plain": [
              "['Gino and Alvaro are everything!!! The best service we have ever had!! If you want a wonderful experience with great food look no further!!!',\n",
              " 'My friend, who has been going there once in a while, recommended it.Now I can see why she did!Wonderful staff, the manager Álvaro, And the waiter and the waitress, they were so lovely and engaging and helpful.Wonderful fresh margaritas. I requested one less sweet and they made it exactly like I was hoping...The inside decor and ambience is very nice also.I highly recommend it.Parking is free on the streets and not difficult to find.This was a Friday, happy hour , four to six p.m.',\n",
              " \"Santeria has never failed me and it is one of my favorite places to go for a quick bite and good drinks. The atmosphere is also really cozy!There's sometimes a line out the door during peak times, coming on off times has helped. They also have a big table in the back that I think can be reserved for bigger parties!\",\n",
              " 'TL;DR - Dropped in for happy hour and was very happy!This place rocks for happy hour. You can get nachos with tons of meat and chips for $7, you can grab pitchers of sangria and margs, and more. Such a fun time!The space is wonderful. Not only is the decor in their restaurant spectacular, but their outdoor seating is also beautifully decorated.Also their server saw that I dropped my wallet and she brought it back to me! This place is great for a first date ;)',\n",
              " \"Saw this place on yelp and suggested to meet a friend from out of town and her two friends here for dinner. We loved it! At around 6pm (on a weekday) I was able to find street parking on the same block. The restaurant is also a walking distance from a dessert place, so I'd say it's in a convenient area. The food was good. I ordered the Michoacan carnitas, and had leftovers for lunch the next day. My picture makes the me look small, but with the three tortillas on the side it's a really filling meal. The four of us shared a pitcher of the prickly pear margarita. It was sweet and you couldn't really taste the alcohol, but we got a good buzz out of it. Loved the green sauce that came with our complimentary chips. Nice customer service and very cool atmosphere/decor. I'd definitely come back again!\",\n",
              " 'What? Anyways, this review is like the rim of the margaritas we got (Half tajin half salt).\"I compare thee to a LIME scooter\" one of my friend says about his as pastor taco. I guess one never forgets how to ride a scooter.A friend of mine decided to feel up his beer and said \"There\\'s an inverted nipped at the bottom of my pint glass.\" Not sure if they have bottomless brunch, but at 10:50pm I wanted to see if I could find it. While I was rolling around in the barrel I found the bottom (shelf tequila). Now here I am writing this review. Food and margs were honestly pretty tasty. Time between sitting down, ordering, and food was a little long.Bonus thought- is a tattoo leg sleeve just half a pant?',\n",
              " \"Much appreciated to Santeria for hosting this Yelp Elite event! I opted for takeout & received the Chips & Guac & Chicken Queso Tacos & guava margarita which was delightfully shared with my beau for his next day lunch for work. I even ordered the Half Carnitas for mom's lunch. The restaurant was so thoughtful to throw in chips & guac and churros with a caramel dip. I shared the chips with my beau since he's a big fan of housemade chips. The chips were thin, crispy, & slightly salted and came with 3 types of salsa. The waitress was so attentive and welcoming to the restaurant asking my preference for indoor or outdoor dining. I came on a weekday lunch time so I was not surprised that there was not much foot traffic but I loved the cultured interior design. I could imagine this would be a place I'd like to visit for the night scene. Chicken Tacos - 5/5 ! I can tell the tacos are what the people come here for! The tacos were absolutely delicious. I shared one with my love and the other for myself. We also threw on some shreds of carnitas from the other order. The portion size is not to be underestimated! The tortilla was hand made, thick, just the way we like our tacos. We loved the variety of color the dish had in appearance. As they say, the eyes eat first! One tortilla had some hints of purple while the other had a green. The tortillas were layered with melted cheese, mushrooms, cotija cheese, pickled onions, guac. We loved the presentation so much. All the ingredients paired perfectly in this quesa taco. I was full from eating just from one meal Churros - 4/5 Since the restaurant was generous enough to give us a serving sample of \\xa0churros on the house, I devoured that while I was driving home from picking up the order! Same as my beau, we love anything freshly thoroughly fried. This was crispy, light and had heavy flavors of cinnamon throughout. The perfect bite of churro. I've not had mini churros before and I loved the crispiness so much. It tasted like the caramel sauce was homemade and as a baker myself, I appreciate when restaurants take the effort to go the extra mile in making their sweets/desserts from scratch! extra sweetness means extra love! Guava Margarita - 5/5!! WOW this took me back to Hawaii sipping on guava flavored cocktails. This was amazing. I was so surprised when I was given the option of guava margarita. I'm not a whites cocktail type of girl. I usually like my darks very dark (ie: Manhattan and whiskeys). However I didn't hesitate an extra second when the waitress gave me this option. I was told the margarita is made with the owner's curated recipe, and I can see why it tastes so unique and has such powerful flavor! This is one rare cocktail that I would no doubt, come back for. Thank you for this opportunity to try Santeria and I can't wait to make another visit. This is the perfect location because it's just around the corner downtown where Beau and i work.\",\n",
              " \"Time & Date: Monday, Sep 27th 2021 @ 5:50pmDining: indoor & outdoor patioCrowd: not too busy on a MondayVery fortunate to have been invited to Santeria for a Yelp Elite event! I opted for takeout & received the Mushroom Queso Tacos & Sangria. The restaurant was nice enough to throw in churros with a caramel dip and chips & salsa as well! I was promptly greeted at the door and service was so warm and friendly. I was given chips & salsa and water while I waited for my takeout order to be prepared, and this was in addition to the bonus chips & salsa already part of the order! The chips were thin, crispy, & slightly salted and came with 3 types of salsa. QUESA TACOSThe tacos were like nothing I've ever seen before, in the best way possible. The tortilla looked hand made, and was thick & soft with a nice seared taste. One of the tortillas had a purple tint while the other had a green tint, I'm guessing 2 different types of corn were used. Atop the tortillas were a crispy layer of melted cheese (my guess), mushrooms, cotija cheese, pickled onions, guac, & some garnish. All the ingredients worked so well together in this delicious taco! The size of these tacos were also massive, I got so full from just one! CHURROSSince the churros were thrown in as a bonus, I ate that first because it was freshly fried & hot! It was crispy yet light, and had the slightest bit of spice. The caramel sauce was sooo rich & complimented the churros really well. SANGRIAI was told the Sangria is made with the owner's favorite recipe, and I can see why it's their favorite! It had the perfect balance of sweetness & fruitiness without overpowering the base. AMBIENCESince there's indoor & outdoor dining, you can pick which ambience you want to go for. Inside it's dim, with a red lit up bar, classy, yet casual. Outdoors on the patio serves outdoor brunch vibes with plant decor & a fire lamp to keep you warm. Both settings are perfect for a meal or drinks! (:\",\n",
              " 'I swung by for a Yelp Elite event and got their Quesa tacos and margarita to-go.- Quesa tacos: Tortillas were thicker than expected but everything else in the taco worked well together to give it nice texture and flavor. I could tell that the ingredients were fresh. I believe this comes with their house made tortilla chips, which were thin and crunchy. I especially loved their salsas which surprisingly had no spice to them. The employees here were friendly and kept giving me updates on my order. They told me my order would take 20 minutes but it took less time than that. I would love to come again during their happy hours on Mon-Fri 3-6pm :)',\n",
              " 'Yum, so impressed with this spot! There are a lot of amazing Mexican restaurants in the neighborhood, so I think we are hard to impress, but this place stands up to the challenge.First the service - Wyatt was the best server we\\'ve had in a while, friendly, efficient, thoughtful and with great recommendations! Drinks - we like a strong cocktail, these did not disappoint. The frozen margarita was nicely tart and surprisingly strong for a frozen drink. Our other beverages were well balanced and delicious as well. Craft cocktail caliber!Food - those quesa tacos! Oh my, the crispy griddled cheese and the thick tortillas truly makes them special. We also got their surf and turf \"sirloin shrimp\" dish which we devoured. Love the chorizo crumble, very creative flavors.Looking forward to visiting again and trying more things from the menu!']"
            ]
          },
          "metadata": {},
          "execution_count": 107
        }
      ]
    },
    {
      "cell_type": "markdown",
      "source": [
        "**<h1> 5. Load Reviews into DataFrame and Score**\n"
      ],
      "metadata": {
        "id": "gL2J6zhwBoZt"
      }
    },
    {
      "cell_type": "code",
      "source": [
        "import numpy as np \n",
        "import pandas as pd"
      ],
      "metadata": {
        "id": "kcdhvjOu5_4n"
      },
      "execution_count": 53,
      "outputs": []
    },
    {
      "cell_type": "code",
      "source": [
        "df = pd.DataFrame(np.array(reviews), columns=['reviews'])"
      ],
      "metadata": {
        "id": "kMXnYeBlBzUv"
      },
      "execution_count": 100,
      "outputs": []
    },
    {
      "cell_type": "code",
      "source": [
        "df.shape"
      ],
      "metadata": {
        "colab": {
          "base_uri": "https://localhost:8080/"
        },
        "id": "6LgxQ_ZAB93R",
        "outputId": "b2d65a70-a9ec-49e6-f4d9-f7fd4f74a583"
      },
      "execution_count": 101,
      "outputs": [
        {
          "output_type": "execute_result",
          "data": {
            "text/plain": [
              "(10, 1)"
            ]
          },
          "metadata": {},
          "execution_count": 101
        }
      ]
    },
    {
      "cell_type": "code",
      "source": [
        "df.head()"
      ],
      "metadata": {
        "colab": {
          "base_uri": "https://localhost:8080/",
          "height": 206
        },
        "id": "XKMOveDRB_OJ",
        "outputId": "9731823d-d088-4bc6-e16e-6e77f299d1f8"
      },
      "execution_count": 102,
      "outputs": [
        {
          "output_type": "execute_result",
          "data": {
            "text/plain": [
              "                                             reviews\n",
              "0  Maybe this 9/23/2022 was a bad day for us ther...\n",
              "1  A friend and I had an absolutely delightful ou...\n",
              "2  The drinks, food, and staff are top notch. A f...\n",
              "3  Went tonight for a drink and quesadilla with t...\n",
              "4  Been waiting for outdoor eating to open back u..."
            ],
            "text/html": [
              "\n",
              "  <div id=\"df-a9ed1c03-4b7c-4212-ab5b-55cc9dba0617\">\n",
              "    <div class=\"colab-df-container\">\n",
              "      <div>\n",
              "<style scoped>\n",
              "    .dataframe tbody tr th:only-of-type {\n",
              "        vertical-align: middle;\n",
              "    }\n",
              "\n",
              "    .dataframe tbody tr th {\n",
              "        vertical-align: top;\n",
              "    }\n",
              "\n",
              "    .dataframe thead th {\n",
              "        text-align: right;\n",
              "    }\n",
              "</style>\n",
              "<table border=\"1\" class=\"dataframe\">\n",
              "  <thead>\n",
              "    <tr style=\"text-align: right;\">\n",
              "      <th></th>\n",
              "      <th>reviews</th>\n",
              "    </tr>\n",
              "  </thead>\n",
              "  <tbody>\n",
              "    <tr>\n",
              "      <th>0</th>\n",
              "      <td>Maybe this 9/23/2022 was a bad day for us ther...</td>\n",
              "    </tr>\n",
              "    <tr>\n",
              "      <th>1</th>\n",
              "      <td>A friend and I had an absolutely delightful ou...</td>\n",
              "    </tr>\n",
              "    <tr>\n",
              "      <th>2</th>\n",
              "      <td>The drinks, food, and staff are top notch. A f...</td>\n",
              "    </tr>\n",
              "    <tr>\n",
              "      <th>3</th>\n",
              "      <td>Went tonight for a drink and quesadilla with t...</td>\n",
              "    </tr>\n",
              "    <tr>\n",
              "      <th>4</th>\n",
              "      <td>Been waiting for outdoor eating to open back u...</td>\n",
              "    </tr>\n",
              "  </tbody>\n",
              "</table>\n",
              "</div>\n",
              "      <button class=\"colab-df-convert\" onclick=\"convertToInteractive('df-a9ed1c03-4b7c-4212-ab5b-55cc9dba0617')\"\n",
              "              title=\"Convert this dataframe to an interactive table.\"\n",
              "              style=\"display:none;\">\n",
              "        \n",
              "  <svg xmlns=\"http://www.w3.org/2000/svg\" height=\"24px\"viewBox=\"0 0 24 24\"\n",
              "       width=\"24px\">\n",
              "    <path d=\"M0 0h24v24H0V0z\" fill=\"none\"/>\n",
              "    <path d=\"M18.56 5.44l.94 2.06.94-2.06 2.06-.94-2.06-.94-.94-2.06-.94 2.06-2.06.94zm-11 1L8.5 8.5l.94-2.06 2.06-.94-2.06-.94L8.5 2.5l-.94 2.06-2.06.94zm10 10l.94 2.06.94-2.06 2.06-.94-2.06-.94-.94-2.06-.94 2.06-2.06.94z\"/><path d=\"M17.41 7.96l-1.37-1.37c-.4-.4-.92-.59-1.43-.59-.52 0-1.04.2-1.43.59L10.3 9.45l-7.72 7.72c-.78.78-.78 2.05 0 2.83L4 21.41c.39.39.9.59 1.41.59.51 0 1.02-.2 1.41-.59l7.78-7.78 2.81-2.81c.8-.78.8-2.07 0-2.86zM5.41 20L4 18.59l7.72-7.72 1.47 1.35L5.41 20z\"/>\n",
              "  </svg>\n",
              "      </button>\n",
              "      \n",
              "  <style>\n",
              "    .colab-df-container {\n",
              "      display:flex;\n",
              "      flex-wrap:wrap;\n",
              "      gap: 12px;\n",
              "    }\n",
              "\n",
              "    .colab-df-convert {\n",
              "      background-color: #E8F0FE;\n",
              "      border: none;\n",
              "      border-radius: 50%;\n",
              "      cursor: pointer;\n",
              "      display: none;\n",
              "      fill: #1967D2;\n",
              "      height: 32px;\n",
              "      padding: 0 0 0 0;\n",
              "      width: 32px;\n",
              "    }\n",
              "\n",
              "    .colab-df-convert:hover {\n",
              "      background-color: #E2EBFA;\n",
              "      box-shadow: 0px 1px 2px rgba(60, 64, 67, 0.3), 0px 1px 3px 1px rgba(60, 64, 67, 0.15);\n",
              "      fill: #174EA6;\n",
              "    }\n",
              "\n",
              "    [theme=dark] .colab-df-convert {\n",
              "      background-color: #3B4455;\n",
              "      fill: #D2E3FC;\n",
              "    }\n",
              "\n",
              "    [theme=dark] .colab-df-convert:hover {\n",
              "      background-color: #434B5C;\n",
              "      box-shadow: 0px 1px 3px 1px rgba(0, 0, 0, 0.15);\n",
              "      filter: drop-shadow(0px 1px 2px rgba(0, 0, 0, 0.3));\n",
              "      fill: #FFFFFF;\n",
              "    }\n",
              "  </style>\n",
              "\n",
              "      <script>\n",
              "        const buttonEl =\n",
              "          document.querySelector('#df-a9ed1c03-4b7c-4212-ab5b-55cc9dba0617 button.colab-df-convert');\n",
              "        buttonEl.style.display =\n",
              "          google.colab.kernel.accessAllowed ? 'block' : 'none';\n",
              "\n",
              "        async function convertToInteractive(key) {\n",
              "          const element = document.querySelector('#df-a9ed1c03-4b7c-4212-ab5b-55cc9dba0617');\n",
              "          const dataTable =\n",
              "            await google.colab.kernel.invokeFunction('convertToInteractive',\n",
              "                                                     [key], {});\n",
              "          if (!dataTable) return;\n",
              "\n",
              "          const docLinkHtml = 'Like what you see? Visit the ' +\n",
              "            '<a target=\"_blank\" href=https://colab.research.google.com/notebooks/data_table.ipynb>data table notebook</a>'\n",
              "            + ' to learn more about interactive tables.';\n",
              "          element.innerHTML = '';\n",
              "          dataTable['output_type'] = 'display_data';\n",
              "          await google.colab.output.renderOutput(dataTable, element);\n",
              "          const docLink = document.createElement('div');\n",
              "          docLink.innerHTML = docLinkHtml;\n",
              "          element.appendChild(docLink);\n",
              "        }\n",
              "      </script>\n",
              "    </div>\n",
              "  </div>\n",
              "  "
            ]
          },
          "metadata": {},
          "execution_count": 102
        }
      ]
    },
    {
      "cell_type": "code",
      "source": [
        "df['reviews'].iloc[0]"
      ],
      "metadata": {
        "colab": {
          "base_uri": "https://localhost:8080/",
          "height": 35
        },
        "id": "8ncGRsiHCL6B",
        "outputId": "45dd0b51-2ede-451a-ad72-dce63e9279b7"
      },
      "execution_count": 67,
      "outputs": [
        {
          "output_type": "execute_result",
          "data": {
            "text/plain": [
              "'Gino and Alvaro are everything!!! The best service we have ever had!! If you want a wonderful experience with great food look no further!!!'"
            ],
            "application/vnd.google.colaboratory.intrinsic+json": {
              "type": "string"
            }
          },
          "metadata": {},
          "execution_count": 67
        }
      ]
    },
    {
      "cell_type": "code",
      "source": [
        "def sentiment_score(review):\n",
        "  tokens = tokenizer.encode(review, return_tensors='pt')\n",
        "  result = model(tokens)\n",
        "  return int(torch.argmax(result.logits)) + 1"
      ],
      "metadata": {
        "id": "Oa5AS9KCCt2f"
      },
      "execution_count": 68,
      "outputs": []
    },
    {
      "cell_type": "code",
      "source": [
        "sentiment_score(df['reviews'].iloc[0])"
      ],
      "metadata": {
        "colab": {
          "base_uri": "https://localhost:8080/"
        },
        "id": "s6uRSMk1DvtD",
        "outputId": "d7a6866b-6e0f-45a8-8553-96bc7417b3ce"
      },
      "execution_count": 71,
      "outputs": [
        {
          "output_type": "execute_result",
          "data": {
            "text/plain": [
              "5"
            ]
          },
          "metadata": {},
          "execution_count": 71
        }
      ]
    },
    {
      "cell_type": "code",
      "source": [
        "df['sentiment'] = df['reviews'].apply(lambda x: sentiment_score(x[:512]))"
      ],
      "metadata": {
        "id": "ebb_FfJkDy-Q"
      },
      "execution_count": 73,
      "outputs": []
    },
    {
      "cell_type": "code",
      "source": [
        "df.value_counts('sentiment')"
      ],
      "metadata": {
        "colab": {
          "base_uri": "https://localhost:8080/"
        },
        "id": "-GC8sNVWEywX",
        "outputId": "7bde6ee5-17b1-4f24-d730-b9a2438fec0c"
      },
      "execution_count": 81,
      "outputs": [
        {
          "output_type": "execute_result",
          "data": {
            "text/plain": [
              "sentiment\n",
              "5    7\n",
              "4    2\n",
              "1    1\n",
              "dtype: int64"
            ]
          },
          "metadata": {},
          "execution_count": 81
        }
      ]
    },
    {
      "cell_type": "code",
      "source": [
        ""
      ],
      "metadata": {
        "id": "fWKGAVwYSpu5"
      },
      "execution_count": null,
      "outputs": []
    }
  ]
}